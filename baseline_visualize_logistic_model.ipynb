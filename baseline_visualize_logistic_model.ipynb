{
 "cells": [
  {
   "cell_type": "code",
   "execution_count": 1,
   "metadata": {},
   "outputs": [],
   "source": [
    "import joblib\n",
    "import pandas as pd\n",
    "import os"
   ]
  },
  {
   "cell_type": "code",
   "execution_count": null,
   "metadata": {},
   "outputs": [],
   "source": [
    "# Define paths\n",
    "models_folder = \"Models\"  # Path to the folder containing model files\n",
    "test_data_path = \"TestDataset/test_data.csv\"  # Path to test data\n",
    "output_folder = \"FeatureWeights\"  # Folder to save output CSVs\n",
    "os.makedirs(output_folder, exist_ok=True)\n",
    "\n",
    "feature_names = pd.read_csv(test_data_path, nrows=0).columns.tolist()[2:]"
   ]
  },
  {
   "cell_type": "code",
   "execution_count": null,
   "metadata": {},
   "outputs": [
    {
     "name": "stdout",
     "output_type": "stream",
     "text": [
      "Processing model: Logistic Regression_pancreatic.joblib\n",
      "Saved feature weights to: FeatureWeights/Logistic Regression_pancreatic_weights.csv\n",
      "Processing model: Logistic Regression_brain.joblib\n",
      "Saved feature weights to: FeatureWeights/Logistic Regression_brain_weights.csv\n",
      "Processing model: Logistic Regression_leukemia.joblib\n",
      "Saved feature weights to: FeatureWeights/Logistic Regression_leukemia_weights.csv\n",
      "Processing model: Logistic Regression_gastric.joblib\n",
      "Saved feature weights to: FeatureWeights/Logistic Regression_gastric_weights.csv\n",
      "Processing model: Logistic Regression_colorectal.joblib\n",
      "Saved feature weights to: FeatureWeights/Logistic Regression_colorectal_weights.csv\n",
      "Processing model: Logistic Regression_lung.joblib\n",
      "Saved feature weights to: FeatureWeights/Logistic Regression_lung_weights.csv\n",
      "Processing model: Logistic Regression_breast.joblib\n",
      "Saved feature weights to: FeatureWeights/Logistic Regression_breast_weights.csv\n",
      "Processing model: Logistic Regression_renal.joblib\n",
      "Saved feature weights to: FeatureWeights/Logistic Regression_renal_weights.csv\n",
      "Processing model: Logistic Regression_liver.joblib\n",
      "Saved feature weights to: FeatureWeights/Logistic Regression_liver_weights.csv\n",
      "Processing model: Logistic Regression_bladder.joblib\n",
      "Saved feature weights to: FeatureWeights/Logistic Regression_bladder_weights.csv\n",
      "Processing model: Logistic Regression_throat.joblib\n",
      "Saved feature weights to: FeatureWeights/Logistic Regression_throat_weights.csv\n",
      "Processing model: Logistic Regression_prostate.joblib\n",
      "Saved feature weights to: FeatureWeights/Logistic Regression_prostate_weights.csv\n",
      "Processing complete. All feature weights saved.\n"
     ]
    }
   ],
   "source": [
    "# Iterate through all joblib files in the Models folder\n",
    "for model_file in os.listdir(models_folder):\n",
    "    if model_file.endswith(\".joblib\"):\n",
    "        model_path = os.path.join(models_folder, model_file)\n",
    "        print(f\"Processing model: {model_file}\")\n",
    "        \n",
    "        model = joblib.load(model_path)\n",
    "\n",
    "        # Extract coefficients\n",
    "        coefficients = model.coef_[0]\n",
    "        \n",
    "        # Pair feature names with coefficients\n",
    "        feature_weights = pd.DataFrame({\n",
    "            \"Feature\": feature_names,\n",
    "            \"Weight\": coefficients\n",
    "        })\n",
    "\n",
    "        feature_weights = feature_weights.sort_values(by=\"Weight\", ascending=False)\n",
    "\n",
    "        output_file = os.path.join(output_folder, f\"{os.path.splitext(model_file)[0]}_weights.csv\")\n",
    "        feature_weights.to_csv(output_file, index=False)\n",
    "\n",
    "        print(f\"Saved feature weights to: {output_file}\")\n",
    "\n",
    "print(\"Processing complete. All feature weights saved.\")"
   ]
  },
  {
   "cell_type": "code",
   "execution_count": null,
   "metadata": {},
   "outputs": [],
   "source": [
    "def combine_feature_weights(feature_weights_folder, output_file):\n",
    "    combined_data = []  # To store all rows of the final table\n",
    "\n",
    "    # Iterate through all CSV files in the FeatureWeights folder\n",
    "    for file_name in os.listdir(feature_weights_folder):\n",
    "        if file_name.endswith(\"_weights.csv\"):\n",
    "            cancer_type = file_name.split(\"_weights.csv\")[0]\n",
    "            \n",
    "            # Load feature weights\n",
    "            file_path = os.path.join(feature_weights_folder, file_name)\n",
    "            df = pd.read_csv(file_path)\n",
    "            \n",
    "            # Get top 5 positive and negative weights\n",
    "            top_positive = df.nlargest(5, \"Weight\").reset_index(drop=True)\n",
    "            top_negative = df.nsmallest(5, \"Weight\").reset_index(drop=True)\n",
    "            \n",
    "            # Prepare a row for this cancer type\n",
    "            row = {\"Cancer Type\": cancer_type}\n",
    "            for i in range(5):  # Add up to 5 features and weights\n",
    "                row[f\"Positive Feature {i+1}\"] = (\n",
    "                    top_positive.at[i, \"Feature\"] if i < len(top_positive) else \"\"\n",
    "                )\n",
    "\n",
    "            for i in range(5):\n",
    "                row[f\"Negative Feature {i+1}\"] = (\n",
    "                    top_negative.at[i, \"Feature\"] if i < len(top_negative) else \"\"\n",
    "                )\n",
    "            \n",
    "            # Add weights in separate columns\n",
    "            for i in range(5):\n",
    "                row[f\"Positive Weight {i+1}\"] = (\n",
    "                    top_positive.at[i, \"Weight\"] if i < len(top_positive) else \"\"\n",
    "                )\n",
    "                \n",
    "            for i in range(5):\n",
    "                row[f\"Negative Weight {i+1}\"] = (\n",
    "                    top_negative.at[i, \"Weight\"] if i < len(top_negative) else \"\"\n",
    "                )\n",
    "            combined_data.append(row)\n",
    "    \n",
    "    # Save to a CSV file\n",
    "    combined_df = pd.DataFrame(combined_data)\n",
    "    combined_df.to_csv(output_file, index=False)\n",
    "    print(f\"Combined feature weights saved to: {output_file}\")"
   ]
  },
  {
   "cell_type": "code",
   "execution_count": null,
   "metadata": {},
   "outputs": [
    {
     "name": "stdout",
     "output_type": "stream",
     "text": [
      "Combined feature weights saved to: CombinedFeatureWeights.csv\n"
     ]
    }
   ],
   "source": [
    "# Specify input and output paths\n",
    "feature_weights_folder = \"FeatureWeights\"\n",
    "output_file = \"CombinedFeatureWeights.csv\" \n",
    "\n",
    "combine_feature_weights(feature_weights_folder, output_file)"
   ]
  }
 ],
 "metadata": {
  "kernelspec": {
   "display_name": "Python 3",
   "language": "python",
   "name": "python3"
  },
  "language_info": {
   "codemirror_mode": {
    "name": "ipython",
    "version": 3
   },
   "file_extension": ".py",
   "mimetype": "text/x-python",
   "name": "python",
   "nbconvert_exporter": "python",
   "pygments_lexer": "ipython3",
   "version": "3.8.10"
  }
 },
 "nbformat": 4,
 "nbformat_minor": 2
}
