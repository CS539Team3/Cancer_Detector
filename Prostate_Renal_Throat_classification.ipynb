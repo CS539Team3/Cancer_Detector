{
  "nbformat": 4,
  "nbformat_minor": 0,
  "metadata": {
    "colab": {
      "provenance": []
    },
    "kernelspec": {
      "name": "python3",
      "display_name": "Python 3"
    },
    "language_info": {
      "name": "python"
    }
  },
  "cells": [
    {
      "cell_type": "code",
      "source": [
        "#imports\n",
        "import pandas as pd\n",
        "from sklearn.ensemble import RandomForestClassifier\n",
        "from sklearn.preprocessing import StandardScaler\n",
        "from sklearn.linear_model import LogisticRegression\n",
        "from sklearn.model_selection import train_test_split\n",
        "from sklearn.metrics import precision_score, recall_score, f1_score, accuracy_score\n",
        "from sklearn.svm import LinearSVC\n",
        "from sklearn.decomposition import PCA\n",
        "from sklearn.tree import DecisionTreeClassifier\n",
        "from sklearn.neighbors import KNeighborsClassifier\n",
        "from sklearn.naive_bayes import GaussianNB"
      ],
      "metadata": {
        "id": "7c7v3LZ5pNp6"
      },
      "execution_count": 1,
      "outputs": []
    },
    {
      "cell_type": "markdown",
      "source": [
        "# Data processing"
      ],
      "metadata": {
        "id": "oMtiGBHFzNcY"
      }
    },
    {
      "cell_type": "markdown",
      "source": [
        "Load csv files"
      ],
      "metadata": {
        "id": "68bC-Go-pIlg"
      }
    },
    {
      "cell_type": "code",
      "source": [
        "df_prostate = pd.read_csv('prostate.csv')\n",
        "df_renal = pd.read_csv('renal.csv')\n",
        "df_throat = pd.read_csv('throat.csv')\n",
        "df_test= pd.read_csv('test_data.csv')"
      ],
      "metadata": {
        "id": "qfaJCvk6pL0i"
      },
      "execution_count": 2,
      "outputs": []
    },
    {
      "cell_type": "code",
      "source": [
        "#filter to include only the normal samples\n",
        "df_normal = df_test[df_test['cancer_type'] == 'normal']"
      ],
      "metadata": {
        "id": "T-o_mJ2VIRbl"
      },
      "execution_count": 3,
      "outputs": []
    },
    {
      "cell_type": "markdown",
      "source": [
        "Combine normal and cancer entries, have an equal number of cancer and normal"
      ],
      "metadata": {
        "id": "6XgBZ7bTJWHz"
      }
    },
    {
      "cell_type": "code",
      "source": [
        "def create_combined_df(cancer_df, normal_df, cancer_type):\n",
        "    cancer_count = len(cancer_df)\n",
        "    #sample until we get an equal number of normal entries (might need to do sampling with replacement depending on the count)\n",
        "    normal_sample = normal_df.sample(n=cancer_count, random_state=42, replace=True)\n",
        "\n",
        "    #combine the dataframes\n",
        "    combined_df = pd.concat([cancer_df, normal_sample], ignore_index=True)\n",
        "    return combined_df\n"
      ],
      "metadata": {
        "id": "MusoO33pJZ_S"
      },
      "execution_count": 4,
      "outputs": []
    },
    {
      "cell_type": "code",
      "source": [
        "#create combined dataframes\n",
        "combined_prostate = create_combined_df(df_prostate, df_normal, 'prostate')\n",
        "combined_renal = create_combined_df(df_renal, df_normal, 'renal')\n",
        "combined_throat = create_combined_df(df_throat, df_normal, 'throat')"
      ],
      "metadata": {
        "id": "ViB9FH7eyrSy"
      },
      "execution_count": 5,
      "outputs": []
    },
    {
      "cell_type": "markdown",
      "source": [
        "Make a copy of the dataframe for the first round of classification"
      ],
      "metadata": {
        "id": "_UZgGZT6p7fi"
      }
    },
    {
      "cell_type": "code",
      "source": [
        "df_prostate_cancer_classification = combined_prostate.copy()\n",
        "df_renal_cancer_classification = combined_renal.copy()\n",
        "df_throat_cancer_classification = combined_throat.copy()"
      ],
      "metadata": {
        "id": "uUtdeiespr-3"
      },
      "execution_count": 6,
      "outputs": []
    },
    {
      "cell_type": "markdown",
      "source": [
        "Drop `type`since we want to predict cancer type and not subtype"
      ],
      "metadata": {
        "id": "xctH-YDhpmoO"
      }
    },
    {
      "cell_type": "code",
      "source": [
        "df_prostate_cancer_classification.drop(columns=['type'], inplace=True)\n",
        "df_renal_cancer_classification.drop(columns=['type'], inplace=True)\n",
        "df_throat_cancer_classification.drop(columns=['type'], inplace=True)"
      ],
      "metadata": {
        "id": "7zV4sxfmp33D"
      },
      "execution_count": 7,
      "outputs": []
    },
    {
      "cell_type": "markdown",
      "source": [
        "Scale and split the dataframes"
      ],
      "metadata": {
        "id": "qlLAfzTJqG3b"
      }
    },
    {
      "cell_type": "code",
      "source": [
        "scaler = StandardScaler()\n",
        "X_prostate_type = df_prostate_cancer_classification.drop(columns=['cancer_type'])\n",
        "X_prostate_type = scaler.fit_transform(X_prostate_type)\n",
        "\n",
        "y_prostate_type = df_prostate_cancer_classification['cancer_type']\n",
        "X_train_prostate_type, X_val_prostate_type, y_train_prostate_type, y_val_prostate_type = train_test_split(X_prostate_type, y_prostate_type, test_size=0.2, random_state=42)\n",
        "\n",
        "X_renal_type = df_renal_cancer_classification.drop(columns=['cancer_type'])\n",
        "X_renal_type = scaler.fit_transform(X_renal_type)\n",
        "\n",
        "y_renal_type = df_renal_cancer_classification['cancer_type']\n",
        "X_train_renal_type, X_val_renal_type, y_train_renal_type, y_val_renal_type = train_test_split(X_renal_type, y_renal_type, test_size=0.2, random_state=42)\n",
        "\n",
        "X_throat_type = df_throat_cancer_classification.drop(columns=['cancer_type'])\n",
        "X_throat_type = scaler.fit_transform(X_throat_type)\n",
        "\n",
        "y_throat_type = df_throat_cancer_classification['cancer_type']\n",
        "X_train_throat_type, X_val_throat_type, y_train_throat_type, y_val_throat_type = train_test_split(X_throat_type, y_throat_type, test_size=0.2, random_state=42)"
      ],
      "metadata": {
        "id": "NZWudlUwqJ0P"
      },
      "execution_count": 8,
      "outputs": []
    },
    {
      "cell_type": "markdown",
      "source": [
        "Processing for the second round of classification"
      ],
      "metadata": {
        "id": "xnKOqt7lzdkD"
      }
    },
    {
      "cell_type": "code",
      "source": [
        "#make df for subtype\n",
        "df_prostate_subtype_classification = combined_prostate.copy()\n",
        "df_renal_subtype_classification = combined_renal.copy()\n",
        "df_throat_subtype_classification = combined_throat.copy()"
      ],
      "metadata": {
        "id": "5jezbyUh5d5H"
      },
      "execution_count": 9,
      "outputs": []
    },
    {
      "cell_type": "code",
      "source": [
        "#drop cancer type since we only want subtype\n",
        "df_prostate_subtype_classification.drop(columns=['cancer_type'], inplace=True)\n",
        "df_renal_subtype_classification.drop(columns=['cancer_type'], inplace=True)\n",
        "df_throat_subtype_classification.drop(columns=['cancer_type'], inplace=True)"
      ],
      "metadata": {
        "id": "nD8RVeWW5ksc"
      },
      "execution_count": 10,
      "outputs": []
    },
    {
      "cell_type": "code",
      "source": [
        "#Scale and split for train and val\n",
        "scaler = StandardScaler()\n",
        "\n",
        "X_prostate_subtype = df_prostate_subtype_classification.drop(columns=['type'])\n",
        "X_prostate_subtype = scaler.fit_transform(X_prostate_subtype)\n",
        "\n",
        "y_prostate_subtype = df_prostate_subtype_classification['type']\n",
        "X_train_prostate_subtype, X_val_prostate_subtype, y_train_prostate_subtype, y_val_prostate_subtype = train_test_split(X_prostate_subtype, y_prostate_subtype, test_size=0.2, random_state=42)\n",
        "\n",
        "X_renal_subtype = df_renal_subtype_classification.drop(columns=['type'])\n",
        "X_renal_subtype = scaler.fit_transform(X_renal_subtype)\n",
        "\n",
        "y_renal_subtype = df_renal_subtype_classification['type']\n",
        "X_train_renal_subtype, X_val_renal_subtype, y_train_renal_subtype, y_val_renal_subtype = train_test_split(X_renal_subtype, y_renal_subtype, test_size=0.2, random_state=42)\n",
        "\n",
        "X_throat_subtype = df_throat_subtype_classification.drop(columns=['type'])\n",
        "X_throat_subtype = scaler.fit_transform(X_throat_subtype)\n",
        "\n",
        "y_throat_subtype = df_throat_subtype_classification['type']\n",
        "X_train_throat_subtype, X_val_throat_subtype, y_train_throat_subtype, y_val_throat_subtype = train_test_split(X_throat_subtype, y_throat_subtype, test_size=0.2, random_state=42)"
      ],
      "metadata": {
        "id": "SfHQokiV5zNT"
      },
      "execution_count": 11,
      "outputs": []
    },
    {
      "cell_type": "markdown",
      "source": [
        "# Classification models for each cancer type"
      ],
      "metadata": {
        "id": "gnc5YUupqDiN"
      }
    },
    {
      "cell_type": "code",
      "source": [
        "#logistic regression\n",
        "def logistic_regression(X_train, y_train, X_val, y_val):\n",
        "  #apply PCA first\n",
        "  pca = PCA(n_components=0.95)\n",
        "  X_train_PCA = pca.fit_transform(X_train)\n",
        "  X_val_PCA = pca.transform(X_val)\n",
        "\n",
        "  model= LogisticRegression()\n",
        "  model.fit(X_train_PCA, y_train)\n",
        "\n",
        "  y_pred = model.predict(X_val_PCA)\n",
        "  y_pred_prob = model.predict_proba(X_val_PCA)\n",
        "  return y_pred, y_pred_prob #return the label and its probability\n"
      ],
      "metadata": {
        "id": "pH8RUekHq2Vv"
      },
      "execution_count": 12,
      "outputs": []
    },
    {
      "cell_type": "code",
      "source": [
        "#random forest\n",
        "def random_forest(X_train, y_train, X_val, y_val):\n",
        "  #apply PCA first\n",
        "  pca = PCA(n_components=0.95)\n",
        "  X_train_PCA = pca.fit_transform(X_train)\n",
        "  X_val_PCA = pca.transform(X_val)\n",
        "\n",
        "  model= RandomForestClassifier()\n",
        "  model.fit(X_train_PCA, y_train)\n",
        "  y_pred = model.predict(X_val_PCA)\n",
        "  y_pred_prob = model.predict_proba(X_val_PCA)\n",
        "  return y_pred, y_pred_prob #return the label and its probability\n"
      ],
      "metadata": {
        "id": "kUCAQeKzr4JD"
      },
      "execution_count": 13,
      "outputs": []
    },
    {
      "cell_type": "markdown",
      "source": [
        "Run the cancer type classification models"
      ],
      "metadata": {
        "id": "3k7NALXq3XeR"
      }
    },
    {
      "cell_type": "code",
      "source": [
        "#logistic regression\n",
        "#testing it on the first entry of the validation set\n",
        "y_pred_prostate_type, y_pred_prob_prostate_type = logistic_regression(X_train_prostate_type, y_train_prostate_type, X_val_prostate_type, y_val_prostate_type)\n",
        "print(\"prostate: \", y_pred_prostate_type[0], y_pred_prob_prostate_type[0])\n",
        "\n",
        "y_pred_renal_type, y_pred_prob_renal_type = logistic_regression(X_train_renal_type, y_train_renal_type, X_val_renal_type, y_val_renal_type)\n",
        "print(\"renal: \", y_pred_renal_type[0], y_pred_prob_renal_type[0])\n",
        "\n",
        "y_pred_throat_type, y_pred_prob_throat_type = logistic_regression(X_train_throat_type, y_train_throat_type, X_val_throat_type, y_val_throat_type)\n",
        "print(\"throat: \", y_pred_throat_type[0], y_pred_prob_throat_type[0])\n",
        "\n",
        "\"\"\"\n",
        "prostate:  prostate [1.61454653e-05 9.99983855e-01]\n",
        "renal:  normal [9.99999999e-01 1.35605250e-09]\n",
        "throat:  normal [1.00000000e+00 4.57303653e-12]\n",
        "\"\"\"\n",
        "#confirmed that they correctly predicted the label\n"
      ],
      "metadata": {
        "colab": {
          "base_uri": "https://localhost:8080/",
          "height": 90
        },
        "id": "0PtAgnZb3bw4",
        "outputId": "412419e3-342c-46e0-c605-d653129dc986"
      },
      "execution_count": 14,
      "outputs": [
        {
          "output_type": "stream",
          "name": "stdout",
          "text": [
            "prostate:  prostate [1.61454653e-05 9.99983855e-01]\n",
            "renal:  normal [9.99999999e-01 1.35605250e-09]\n",
            "throat:  normal [1.00000000e+00 4.57303653e-12]\n"
          ]
        },
        {
          "output_type": "execute_result",
          "data": {
            "text/plain": [
              "'\\nprostate:  prostate [1.61454653e-05 9.99983855e-01]\\nrenal:  normal [9.99999999e-01 1.35605250e-09]\\nthroat:  normal [1.00000000e+00 4.57303653e-12]\\n'"
            ],
            "application/vnd.google.colaboratory.intrinsic+json": {
              "type": "string"
            }
          },
          "metadata": {},
          "execution_count": 14
        }
      ]
    },
    {
      "cell_type": "code",
      "source": [
        "#random forest\n",
        "#testing it on the first entry of the validation set\n",
        "y_pred_prostate_type, y_pred_prob_prostate_type = random_forest(X_train_prostate_type, y_train_prostate_type, X_val_prostate_type, y_val_prostate_type)\n",
        "print(\"prostate: \", y_pred_prostate_type[0], y_pred_prob_prostate_type[0])\n",
        "\n",
        "y_pred_renal_type, y_pred_prob_renal_type = random_forest(X_train_renal_type, y_train_renal_type, X_val_renal_type, y_val_renal_type)\n",
        "print(\"renal: \", y_pred_renal_type[0], y_pred_prob_renal_type[0])\n",
        "\n",
        "y_pred_throat_type, y_pred_prob_throat_type = random_forest(X_train_throat_type, y_train_throat_type, X_val_throat_type, y_val_throat_type)\n",
        "print(\"throat: \", y_pred_throat_type[0], y_pred_prob_throat_type[0])\n",
        "\n",
        "\"\"\"\n",
        "prostate:  prostate [0.29 0.71]\n",
        "normal [0.95 0.05]\n",
        "normal [0.97 0.03]\n",
        "\"\"\"\n",
        "#confirmed that they correctly predicted the label\n"
      ],
      "metadata": {
        "colab": {
          "base_uri": "https://localhost:8080/",
          "height": 90
        },
        "id": "us74IipFK-3e",
        "outputId": "cd38d581-72dc-42b9-898d-9c2a7da179df"
      },
      "execution_count": 15,
      "outputs": [
        {
          "output_type": "stream",
          "name": "stdout",
          "text": [
            "prostate:  prostate [0.32 0.68]\n",
            "renal:  normal [0.97 0.03]\n",
            "throat:  normal [1. 0.]\n"
          ]
        },
        {
          "output_type": "execute_result",
          "data": {
            "text/plain": [
              "'\\nprostate:  prostate [0.29 0.71]\\nnormal [0.95 0.05]\\nnormal [0.97 0.03]\\n'"
            ],
            "application/vnd.google.colaboratory.intrinsic+json": {
              "type": "string"
            }
          },
          "metadata": {},
          "execution_count": 15
        }
      ]
    },
    {
      "cell_type": "markdown",
      "source": [
        "# Make classification models for specific cancer type"
      ],
      "metadata": {
        "id": "eCnLmxTu4KO_"
      }
    },
    {
      "cell_type": "code",
      "source": [
        "# Decision tree function for multi-class classification\n",
        "def decision_tree(X_train, y_train, X_val, y_val):\n",
        "    # Apply PCA first\n",
        "    pca = PCA(n_components=0.95)\n",
        "    X_train_PCA = pca.fit_transform(X_train)\n",
        "    X_val_PCA = pca.transform(X_val)\n",
        "\n",
        "    # Create the model\n",
        "    model = DecisionTreeClassifier()\n",
        "    model.fit(X_train_PCA, y_train)\n",
        "    y_pred = model.predict(X_val_PCA)\n",
        "\n",
        "    # Evaluate the model\n",
        "    accuracy = accuracy_score(y_val, y_pred)\n",
        "    precision = precision_score(y_val, y_pred, average='weighted')  #use weighted in case of multi class classification\n",
        "    recall = recall_score(y_val, y_pred, average='weighted')\n",
        "    f1 = f1_score(y_val, y_pred, average='weighted')\n",
        "\n",
        "    return y_pred, accuracy, precision, recall, f1\n"
      ],
      "metadata": {
        "id": "LRX1zAD5474k"
      },
      "execution_count": 16,
      "outputs": []
    },
    {
      "cell_type": "code",
      "source": [
        "#Naive Bayes\n",
        "def naive_bayes(X_train, y_train, X_val, y_val):\n",
        "  #apply PCA first\n",
        "  pca = PCA(n_components=0.95)\n",
        "  X_train_PCA = pca.fit_transform(X_train)\n",
        "  X_val_PCA = pca.transform(X_val)\n",
        "\n",
        "  #create the model\n",
        "  model= GaussianNB()\n",
        "  model.fit(X_train_PCA, y_train)\n",
        "  y_pred = model.predict(X_val_PCA)\n",
        "\n",
        "  #evaluate the model\n",
        "  accuracy = accuracy_score(y_val, y_pred)\n",
        "  precision = precision_score(y_val, y_pred, average='weighted')\n",
        "  recall = recall_score(y_val, y_pred, average='weighted')\n",
        "  f1 = f1_score(y_val, y_pred, average='weighted')\n",
        "  return y_pred, accuracy, precision, recall, f1\n"
      ],
      "metadata": {
        "id": "40CoE1pg5BQE"
      },
      "execution_count": 17,
      "outputs": []
    },
    {
      "cell_type": "code",
      "source": [
        "#KNN\n",
        "def knn(X_train, y_train, X_val, y_val):\n",
        "  #apply PCA first\n",
        "  pca = PCA(n_components=0.95)\n",
        "  X_train_PCA = pca.fit_transform(X_train)\n",
        "  X_val_PCA = pca.transform(X_val)\n",
        "\n",
        "  #create the model\n",
        "  model= KNeighborsClassifier()\n",
        "  model.fit(X_train_PCA, y_train)\n",
        "  y_pred = model.predict(X_val_PCA)\n",
        "\n",
        "  #evaluate the model\n",
        "  accuracy = accuracy_score(y_val, y_pred)\n",
        "  precision = precision_score(y_val, y_pred, average='weighted')\n",
        "  recall = recall_score(y_val, y_pred, average='weighted')\n",
        "  f1 = f1_score(y_val, y_pred, average='weighted')\n",
        "  return y_pred, accuracy, precision, recall, f1\n"
      ],
      "metadata": {
        "id": "B2anFQRD6Qsv"
      },
      "execution_count": 18,
      "outputs": []
    },
    {
      "cell_type": "code",
      "source": [
        "#Logistic Regression\n",
        "def logistic_regression_subtype(X_train, y_train, X_val, y_val):\n",
        "  #apply PCA first\n",
        "  pca = PCA(n_components=0.95)\n",
        "  X_train_PCA = pca.fit_transform(X_train)\n",
        "  X_val_PCA = pca.transform(X_val)\n",
        "\n",
        "  #create the model\n",
        "  model= LogisticRegression()\n",
        "  model.fit(X_train_PCA, y_train)\n",
        "  y_pred = model.predict(X_val_PCA)\n",
        "\n",
        "  #evaluate the model\n",
        "  accuracy = accuracy_score(y_val, y_pred)\n",
        "  precision = precision_score(y_val, y_pred, average='weighted')\n",
        "  recall = recall_score(y_val, y_pred, average='weighted')\n",
        "  f1 = f1_score(y_val, y_pred, average='weighted')\n",
        "  return y_pred, accuracy, precision, recall, f1\n"
      ],
      "metadata": {
        "id": "HTPeV0ge6X2f"
      },
      "execution_count": 19,
      "outputs": []
    },
    {
      "cell_type": "code",
      "source": [
        "#Random Forest\n",
        "def random_forest_subtype(X_train, y_train, X_val, y_val):\n",
        "  #apply PCA first\n",
        "  pca = PCA(n_components=0.95)\n",
        "  X_train_PCA = pca.fit_transform(X_train)\n",
        "  X_val_PCA = pca.transform(X_val)\n",
        "\n",
        "  #create the model\n",
        "  model= RandomForestClassifier()\n",
        "  model.fit(X_train_PCA, y_train)\n",
        "  y_pred = model.predict(X_val_PCA)\n",
        "\n",
        "  #evaluate the model\n",
        "  accuracy = accuracy_score(y_val, y_pred)\n",
        "  precision = precision_score(y_val, y_pred, average='weighted')\n",
        "  recall = recall_score(y_val, y_pred, average='weighted')\n",
        "  f1 = f1_score(y_val, y_pred, average='weighted')\n",
        "  return y_pred, accuracy, precision, recall, f1\n"
      ],
      "metadata": {
        "id": "VeVpM8Jc6bmy"
      },
      "execution_count": 20,
      "outputs": []
    },
    {
      "cell_type": "code",
      "source": [
        "#SVM\n",
        "def svm(X_train, y_train, X_val, y_val):\n",
        "  #apply PCA first\n",
        "  pca = PCA(n_components=0.95)\n",
        "  X_train_PCA = pca.fit_transform(X_train)\n",
        "  X_val_PCA = pca.transform(X_val)\n",
        "\n",
        "  #create the model\n",
        "  model= LinearSVC()\n",
        "  model.fit(X_train_PCA, y_train)\n",
        "  y_pred = model.predict(X_val_PCA)\n",
        "\n",
        "  #evaluate the model\n",
        "  accuracy = accuracy_score(y_val, y_pred)\n",
        "  precision = precision_score(y_val, y_pred, average='weighted')\n",
        "  recall = recall_score(y_val, y_pred, average='weighted')\n",
        "  f1 = f1_score(y_val, y_pred, average='weighted')\n",
        "  return y_pred, accuracy, precision, recall, f1\n"
      ],
      "metadata": {
        "id": "yPwGQ3Xn6i64"
      },
      "execution_count": 21,
      "outputs": []
    },
    {
      "cell_type": "markdown",
      "source": [
        "Run the cancer subtype classification models"
      ],
      "metadata": {
        "id": "e8tfwOyw61QF"
      }
    },
    {
      "cell_type": "code",
      "source": [
        "#function to run all the models and print the metrics\n",
        "def evaluate_classifier(classifier_function, X_train, y_train, X_val, y_val, classifier_name):\n",
        "    #prints the metrics and returns them for further use\n",
        "    #run the classifier\n",
        "    y_pred, accuracy, precision, recall, f1 = classifier_function(X_train, y_train, X_val, y_val)\n",
        "\n",
        "    #print results\n",
        "    print(f\"Results for {classifier_name}:\")\n",
        "    print(f\"Accuracy: {accuracy:.4f}\")\n",
        "    print(f\"Precision: {precision:.4f}\")\n",
        "    print(f\"Recall: {recall:.4f}\")\n",
        "    print(f\"F1 Score: {f1:.4f}\")\n",
        "    print(\"\\n\")\n",
        "\n",
        "    #return metrics for further use\n",
        "    return {\n",
        "        \"y_pred\": y_pred,\n",
        "        \"accuracy\": accuracy,\n",
        "        \"precision\": precision,\n",
        "        \"recall\": recall,\n",
        "        \"f1\": f1\n",
        "    }\n",
        "\n"
      ],
      "metadata": {
        "id": "4ofzSPXq65A5"
      },
      "execution_count": 22,
      "outputs": []
    },
    {
      "cell_type": "code",
      "source": [
        "#run on prostate\n",
        "results_decision_tree = evaluate_classifier(\n",
        "    decision_tree,\n",
        "    X_train_prostate_subtype, y_train_prostate_subtype,\n",
        "    X_val_prostate_subtype, y_val_prostate_subtype,\n",
        "    \"Decision Tree\"\n",
        ")\n",
        "\n",
        "results_naive_bayes = evaluate_classifier(\n",
        "    naive_bayes,\n",
        "    X_train_prostate_subtype, y_train_prostate_subtype,\n",
        "    X_val_prostate_subtype, y_val_prostate_subtype,\n",
        "    \"Naive Bayes\"\n",
        ")\n",
        "\n",
        "results_KNN = evaluate_classifier(\n",
        "    knn,\n",
        "    X_train_prostate_subtype, y_train_prostate_subtype,\n",
        "    X_val_prostate_subtype, y_val_prostate_subtype,\n",
        "    \"KNN\"\n",
        ")\n",
        "\n",
        "results_logistic_regression = evaluate_classifier(\n",
        "    logistic_regression_subtype,\n",
        "    X_train_prostate_subtype, y_train_prostate_subtype,\n",
        "     X_val_prostate_subtype, y_val_prostate_subtype,\n",
        "    \"Logistic Regression\"\n",
        ")\n",
        "\n",
        "results_random_forest = evaluate_classifier(\n",
        "    random_forest_subtype,\n",
        "    X_train_prostate_subtype, y_train_prostate_subtype,\n",
        "    X_val_prostate_subtype, y_val_prostate_subtype,\n",
        "    \"Random Forest\"\n",
        "\n",
        ")\n",
        "\n",
        "results_SVM = evaluate_classifier(\n",
        "    svm,\n",
        "    X_train_prostate_subtype, y_train_prostate_subtype,\n",
        "    X_val_prostate_subtype, y_val_prostate_subtype,\n",
        "    \"SVM\"\n",
        ")\n",
        "\n",
        "\"\"\"Results for Decision Tree:\n",
        "Accuracy: 1.0000\n",
        "Precision: 1.0000\n",
        "Recall: 1.0000\n",
        "F1 Score: 1.0000\n",
        "\n",
        "\n",
        "Results for Naive Bayes:\n",
        "Accuracy: 0.8947\n",
        "Precision: 0.9181\n",
        "Recall: 0.8947\n",
        "F1 Score: 0.8965\n",
        "\n",
        "\n",
        "Results for KNN:\n",
        "Accuracy: 1.0000\n",
        "Precision: 1.0000\n",
        "Recall: 1.0000\n",
        "F1 Score: 1.0000\n",
        "\n",
        "\n",
        "Results for Logistic Regression:\n",
        "Accuracy: 1.0000\n",
        "Precision: 1.0000\n",
        "Recall: 1.0000\n",
        "F1 Score: 1.0000\n",
        "\n",
        "\n",
        "Results for Random Forest:\n",
        "Accuracy: 1.0000\n",
        "Precision: 1.0000\n",
        "Recall: 1.0000\n",
        "F1 Score: 1.0000\n",
        "\n",
        "\n",
        "Results for SVM:\n",
        "Accuracy: 1.0000\n",
        "Precision: 1.0000\n",
        "Recall: 1.0000\n",
        "F1 Score: 1.0000\n",
        "\n",
        "\"\"\"\n"
      ],
      "metadata": {
        "id": "GEthsSOS82e8",
        "colab": {
          "base_uri": "https://localhost:8080/"
        },
        "outputId": "fabeacb0-a684-44c8-b29d-783e63f6a201"
      },
      "execution_count": 23,
      "outputs": [
        {
          "output_type": "stream",
          "name": "stdout",
          "text": [
            "Results for Decision Tree:\n",
            "Accuracy: 1.0000\n",
            "Precision: 1.0000\n",
            "Recall: 1.0000\n",
            "F1 Score: 1.0000\n",
            "\n",
            "\n",
            "Results for Naive Bayes:\n",
            "Accuracy: 0.8947\n",
            "Precision: 0.9181\n",
            "Recall: 0.8947\n",
            "F1 Score: 0.8965\n",
            "\n",
            "\n",
            "Results for KNN:\n",
            "Accuracy: 1.0000\n",
            "Precision: 1.0000\n",
            "Recall: 1.0000\n",
            "F1 Score: 1.0000\n",
            "\n",
            "\n",
            "Results for Logistic Regression:\n",
            "Accuracy: 1.0000\n",
            "Precision: 1.0000\n",
            "Recall: 1.0000\n",
            "F1 Score: 1.0000\n",
            "\n",
            "\n",
            "Results for Random Forest:\n",
            "Accuracy: 1.0000\n",
            "Precision: 1.0000\n",
            "Recall: 1.0000\n",
            "F1 Score: 1.0000\n",
            "\n",
            "\n",
            "Results for SVM:\n",
            "Accuracy: 1.0000\n",
            "Precision: 1.0000\n",
            "Recall: 1.0000\n",
            "F1 Score: 1.0000\n",
            "\n",
            "\n"
          ]
        }
      ]
    },
    {
      "cell_type": "code",
      "source": [
        "#run on renal\n",
        "results_decision_tree = evaluate_classifier(\n",
        "    decision_tree,\n",
        "    X_train_renal_subtype, y_train_renal_subtype,\n",
        "    X_val_renal_subtype, y_val_renal_subtype,\n",
        "    \"Decision Tree\"\n",
        ")\n",
        "\n",
        "results_naive_bayes = evaluate_classifier(\n",
        "    naive_bayes,\n",
        "    X_train_renal_subtype, y_train_renal_subtype,\n",
        "    X_val_renal_subtype, y_val_renal_subtype,\n",
        "    \"Naive Bayes\"\n",
        ")\n",
        "\n",
        "results_KNN = evaluate_classifier(\n",
        "    knn,\n",
        "    X_train_renal_subtype, y_train_renal_subtype,\n",
        "    X_val_renal_subtype, y_val_renal_subtype,\n",
        "    \"KNN\"\n",
        ")\n",
        "\n",
        "results_logistic_regression = evaluate_classifier(\n",
        "    logistic_regression_subtype,\n",
        "    X_train_renal_subtype, y_train_renal_subtype,\n",
        "    X_val_renal_subtype, y_val_renal_subtype,\n",
        "    \"Logistic Regression\"\n",
        ")\n",
        "\n",
        "results_random_forest = evaluate_classifier(\n",
        "    random_forest_subtype,\n",
        "    X_train_renal_subtype, y_train_renal_subtype,\n",
        "    X_val_renal_subtype, y_val_renal_subtype,\n",
        "    \"Random Forest\"\n",
        ")\n",
        "\n",
        "results_SVM = evaluate_classifier(\n",
        "    svm,\n",
        "    X_train_renal_subtype, y_train_renal_subtype,\n",
        "    X_val_renal_subtype, y_val_renal_subtype,\n",
        "    \"SVM\"\n",
        ")\n",
        "\n",
        "\"\"\"\n",
        "Results for Decision Tree:\n",
        "Accuracy: 0.9688\n",
        "Precision: 0.9705\n",
        "Recall: 0.9688\n",
        "F1 Score: 0.9687\n",
        "\n",
        "\n",
        "Results for Naive Bayes:\n",
        "Accuracy: 0.9375\n",
        "Precision: 0.9449\n",
        "Recall: 0.9375\n",
        "F1 Score: 0.9375\n",
        "\n",
        "\n",
        "Results for KNN:\n",
        "Accuracy: 0.8750\n",
        "Precision: 0.8801\n",
        "Recall: 0.8750\n",
        "F1 Score: 0.8740\n",
        "\n",
        "\n",
        "Results for Logistic Regression:\n",
        "Accuracy: 0.9375\n",
        "Precision: 0.9441\n",
        "Recall: 0.9375\n",
        "F1 Score: 0.9370\n",
        "\n",
        "\n",
        "Results for Random Forest:\n",
        "Accuracy: 0.9688\n",
        "Precision: 0.9705\n",
        "Recall: 0.9688\n",
        "F1 Score: 0.9687\n",
        "\n",
        "\n",
        "Results for SVM:\n",
        "Accuracy: 0.9375\n",
        "Precision: 0.9441\n",
        "Recall: 0.9375\n",
        "F1 Score: 0.9370\n",
        "\n",
        "\"\"\""
      ],
      "metadata": {
        "id": "pwQVKdrN9TO3",
        "colab": {
          "base_uri": "https://localhost:8080/"
        },
        "outputId": "1d69b574-2569-481f-b3c3-bb15fc0fbdb2"
      },
      "execution_count": 24,
      "outputs": [
        {
          "output_type": "stream",
          "name": "stdout",
          "text": [
            "Results for Decision Tree:\n",
            "Accuracy: 0.9688\n",
            "Precision: 0.9705\n",
            "Recall: 0.9688\n",
            "F1 Score: 0.9687\n",
            "\n",
            "\n",
            "Results for Naive Bayes:\n",
            "Accuracy: 0.9375\n",
            "Precision: 0.9449\n",
            "Recall: 0.9375\n",
            "F1 Score: 0.9375\n",
            "\n",
            "\n",
            "Results for KNN:\n",
            "Accuracy: 0.8750\n",
            "Precision: 0.8801\n",
            "Recall: 0.8750\n",
            "F1 Score: 0.8740\n",
            "\n",
            "\n",
            "Results for Logistic Regression:\n",
            "Accuracy: 0.9375\n",
            "Precision: 0.9441\n",
            "Recall: 0.9375\n",
            "F1 Score: 0.9370\n",
            "\n",
            "\n",
            "Results for Random Forest:\n",
            "Accuracy: 0.9688\n",
            "Precision: 0.9705\n",
            "Recall: 0.9688\n",
            "F1 Score: 0.9687\n",
            "\n",
            "\n",
            "Results for SVM:\n",
            "Accuracy: 0.9375\n",
            "Precision: 0.9441\n",
            "Recall: 0.9375\n",
            "F1 Score: 0.9370\n",
            "\n",
            "\n"
          ]
        }
      ]
    },
    {
      "cell_type": "code",
      "source": [
        "#run on throat\n",
        "results_decision_tree = evaluate_classifier(\n",
        "    decision_tree,\n",
        "    X_train_throat_subtype, y_train_throat_subtype,\n",
        "    X_val_throat_subtype, y_val_throat_subtype,\n",
        "    \"Decision Tree\"\n",
        ")\n",
        "\n",
        "results_naive_bayes = evaluate_classifier(\n",
        "    naive_bayes,\n",
        "    X_train_throat_subtype, y_train_throat_subtype,\n",
        "    X_val_throat_subtype, y_val_throat_subtype,\n",
        "    \"Naive Bayes\"\n",
        ")\n",
        "\n",
        "results_KNN = evaluate_classifier(\n",
        "    knn,\n",
        "    X_train_throat_subtype, y_train_throat_subtype,\n",
        "    X_val_throat_subtype,  y_val_throat_subtype,\n",
        "    \"KNN\"\n",
        ")\n",
        "\n",
        "results_logistic_regression = evaluate_classifier(\n",
        "    logistic_regression_subtype,\n",
        "    X_train_throat_subtype, y_train_throat_subtype,\n",
        "    X_val_throat_subtype,  y_val_throat_subtype,\n",
        "    \"Logistic Regression\"\n",
        ")\n",
        "\n",
        "results_random_forest = evaluate_classifier(\n",
        "    random_forest_subtype,\n",
        "    X_train_throat_subtype, y_train_throat_subtype,\n",
        "    X_val_throat_subtype,  y_val_throat_subtype,\n",
        "    \"Random Forest\"\n",
        ")\n",
        "\n",
        "results_SVM = evaluate_classifier(\n",
        "    svm,\n",
        "    X_train_throat_subtype, y_train_throat_subtype,\n",
        "    X_val_throat_subtype,  y_val_throat_subtype,\n",
        "    \"SVM\"\n",
        ")\n",
        "\n",
        "\"\"\"\n",
        "Results for Decision Tree:\n",
        "Accuracy: 0.9474\n",
        "Precision: 0.9496\n",
        "Recall: 0.9474\n",
        "F1 Score: 0.9469\n",
        "\n",
        "\n",
        "Results for Naive Bayes:\n",
        "Accuracy: 0.9737\n",
        "Precision: 0.9759\n",
        "Recall: 0.9737\n",
        "F1 Score: 0.9739\n",
        "\n",
        "\n",
        "Results for KNN:\n",
        "Accuracy: 0.9737\n",
        "Precision: 0.9759\n",
        "Recall: 0.9737\n",
        "F1 Score: 0.9739\n",
        "\n",
        "\n",
        "Results for Logistic Regression:\n",
        "Accuracy: 0.9737\n",
        "Precision: 0.9759\n",
        "Recall: 0.9737\n",
        "F1 Score: 0.9739\n",
        "\n",
        "\n",
        "Results for Random Forest:\n",
        "Accuracy: 0.9474\n",
        "Precision: 0.9496\n",
        "Recall: 0.9474\n",
        "F1 Score: 0.9469\n",
        "\n",
        "\n",
        "Results for SVM:\n",
        "Accuracy: 0.9737\n",
        "Precision: 0.9759\n",
        "Recall: 0.9737\n",
        "F1 Score: 0.9739\n",
        "\n",
        "\"\"\"\n"
      ],
      "metadata": {
        "id": "SA32eh3U9uYn",
        "colab": {
          "base_uri": "https://localhost:8080/"
        },
        "outputId": "43c6a4ce-6bd5-4394-8e69-94d411d6d73c"
      },
      "execution_count": 25,
      "outputs": [
        {
          "output_type": "stream",
          "name": "stdout",
          "text": [
            "Results for Decision Tree:\n",
            "Accuracy: 0.9474\n",
            "Precision: 0.9496\n",
            "Recall: 0.9474\n",
            "F1 Score: 0.9469\n",
            "\n",
            "\n",
            "Results for Naive Bayes:\n",
            "Accuracy: 0.9737\n",
            "Precision: 0.9759\n",
            "Recall: 0.9737\n",
            "F1 Score: 0.9739\n",
            "\n",
            "\n",
            "Results for KNN:\n",
            "Accuracy: 0.9737\n",
            "Precision: 0.9759\n",
            "Recall: 0.9737\n",
            "F1 Score: 0.9739\n",
            "\n",
            "\n",
            "Results for Logistic Regression:\n",
            "Accuracy: 0.9737\n",
            "Precision: 0.9759\n",
            "Recall: 0.9737\n",
            "F1 Score: 0.9739\n",
            "\n",
            "\n",
            "Results for Random Forest:\n",
            "Accuracy: 0.9474\n",
            "Precision: 0.9496\n",
            "Recall: 0.9474\n",
            "F1 Score: 0.9469\n",
            "\n",
            "\n",
            "Results for SVM:\n",
            "Accuracy: 0.9737\n",
            "Precision: 0.9759\n",
            "Recall: 0.9737\n",
            "F1 Score: 0.9739\n",
            "\n",
            "\n"
          ]
        }
      ]
    }
  ]
}