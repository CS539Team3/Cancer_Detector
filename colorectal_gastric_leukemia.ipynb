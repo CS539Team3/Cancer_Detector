{
 "cells": [
  {
   "cell_type": "code",
   "execution_count": 80,
   "id": "1ccf0208-a593-4cc4-ac28-bc370bbb7eb4",
   "metadata": {},
   "outputs": [],
   "source": [
    "import pandas as pd\n",
    "from sklearn.ensemble import RandomForestClassifier\n",
    "from sklearn.preprocessing import StandardScaler\n",
    "from sklearn.linear_model import LogisticRegression\n",
    "from sklearn.model_selection import train_test_split\n",
    "from sklearn.model_selection import LeaveOneOut\n",
    "from sklearn.metrics import precision_score, recall_score, f1_score, accuracy_score\n",
    "from sklearn.svm import LinearSVC\n",
    "from sklearn.decomposition import PCA\n",
    "from sklearn.tree import DecisionTreeClassifier\n",
    "from sklearn.neighbors import KNeighborsClassifier\n",
    "from sklearn.naive_bayes import GaussianNB"
   ]
  },
  {
   "cell_type": "markdown",
   "id": "93ccaef7-ae07-4808-829c-387a2983805d",
   "metadata": {},
   "source": [
    "## Preparing the Data for Cancer Type Classification"
   ]
  },
  {
   "cell_type": "code",
   "execution_count": 82,
   "id": "3d2e934b-e56f-40c8-a62f-2f71b30b2791",
   "metadata": {},
   "outputs": [],
   "source": [
    "df_colorectal = pd.read_csv('colorectal.csv')\n",
    "df_gastric = pd.read_csv('gastric.csv')\n",
    "df_leukemia = pd.read_csv('leukemia.csv')\n",
    "df_normal = pd.read_csv('normal.csv')"
   ]
  },
  {
   "cell_type": "code",
   "execution_count": 5,
   "id": "49fa2533-62ed-473c-8aff-ef0f7c562bf7",
   "metadata": {},
   "outputs": [],
   "source": [
    "def create_combined_df(cancer_df, normal_df, cancer_type):\n",
    "    cancer_count = len(cancer_df)\n",
    "    normal_sample = normal_df.sample(n=cancer_count, random_state=42, replace=False)\n",
    "\n",
    "    combined_df = pd.concat([cancer_df, normal_sample], ignore_index=True)\n",
    "    return combined_df"
   ]
  },
  {
   "cell_type": "code",
   "execution_count": 7,
   "id": "8ac0563e-8dba-4622-bab2-f27ffa937c1e",
   "metadata": {},
   "outputs": [],
   "source": [
    "combined_colorectal = create_combined_df(df_colorectal, df_normal, 'colorectal')\n",
    "combined_gastric = create_combined_df(df_gastric, df_normal, 'gastric')\n",
    "combined_leukemia = create_combined_df(df_leukemia, df_normal, 'leukemia')"
   ]
  },
  {
   "cell_type": "code",
   "execution_count": 9,
   "id": "8b29dabf-e478-4247-ba45-83673f40ad36",
   "metadata": {},
   "outputs": [],
   "source": [
    "df_colorectal_cancer_classification = combined_colorectal.copy()\n",
    "df_gastric_cancer_classification = combined_gastric.copy()\n",
    "df_leukemia_cancer_classification = combined_leukemia.copy()"
   ]
  },
  {
   "cell_type": "code",
   "execution_count": 10,
   "id": "6d674818-8fbb-4826-a955-0400ed7d8dee",
   "metadata": {},
   "outputs": [],
   "source": [
    "df_colorectal_cancer_classification.drop(columns = ['type'], inplace = True)\n",
    "df_gastric_cancer_classification.drop(columns = ['type'], inplace = True)\n",
    "df_leukemia_cancer_classification.drop(columns = ['type'], inplace = True)"
   ]
  },
  {
   "cell_type": "markdown",
   "id": "3fcdae16-415c-422b-aa36-e1e4c43e0998",
   "metadata": {},
   "source": [
    "## Training the Models and Returning their LOOCV Score"
   ]
  },
  {
   "cell_type": "markdown",
   "id": "9fb2375b-0cff-45c2-a4cf-09ede0c1c7c8",
   "metadata": {},
   "source": [
    "I tested both Logistic Regression and Random Forest for these models, but for the final model I recommend the Logistic Regression model only. For the subtype classification and final function I will only use the LR model"
   ]
  },
  {
   "cell_type": "code",
   "execution_count": 55,
   "id": "23ff991a-02c8-4fec-aeec-54a14b672521",
   "metadata": {},
   "outputs": [],
   "source": [
    "X_colorectal_type = df_colorectal_cancer_classification.drop(columns = ['cancer_type'])\n",
    "y_colorectal_type = df_colorectal_cancer_classification['cancer_type']\n",
    "\n",
    "loo_colorectal_classification_lr = LeaveOneOut()\n",
    "colorectal_classification_lr = LogisticRegression(max_iter = 200)\n",
    "\n",
    "y_true_colorectal_classification_lr = []\n",
    "y_pred_colorectal_classification_lr = []\n",
    "\n",
    "for train_index, test_index in loo_colorectal_classification_lr.split(X_colorectal_type):\n",
    "    X_train, X_test = X_colorectal_type.iloc[train_index], X_colorectal_type.iloc[test_index]\n",
    "    y_train, y_test = y_colorectal_type.iloc[train_index], y_colorectal_type.iloc[test_index]\n",
    "\n",
    "    colorectal_classification_lr.fit(X_train, y_train)\n",
    "\n",
    "    y_pred_colorectal_classification_lr.append(colorectal_classification_lr.predict(X_test)[0])\n",
    "    y_true_colorectal_classification_lr.append(y_test.iloc[0])\n",
    "\n",
    "# LOOCV accuracy is 99.38%"
   ]
  },
  {
   "cell_type": "code",
   "execution_count": 17,
   "id": "4241ee43-42a6-431e-ad77-da8b80857d22",
   "metadata": {},
   "outputs": [
    {
     "name": "stdout",
     "output_type": "stream",
     "text": [
      "LOOCV Score: 99.38%\n"
     ]
    }
   ],
   "source": [
    "colorectal_classification_lr_accuracy = accuracy_score(y_true_colorectal_classification_lr, y_pred_colorectal_classification_lr)\n",
    "print(f'LOOCV Score: {colorectal_classification_lr_accuracy * 100:.2f}%')"
   ]
  },
  {
   "cell_type": "code",
   "execution_count": 19,
   "id": "f7505298-1810-46d2-8b4e-96c3f0eed2a1",
   "metadata": {},
   "outputs": [],
   "source": [
    "X_colorectal_type = df_colorectal_cancer_classification.drop(columns = ['cancer_type'])\n",
    "y_colorectal_type = df_colorectal_cancer_classification['cancer_type']\n",
    "\n",
    "loo_colorectal_classification_rf = LeaveOneOut()\n",
    "colorectal_classification_rf = RandomForestClassifier(n_estimators = 100, random_state = 42)\n",
    "\n",
    "y_true_colorectal_classification_rf = []\n",
    "y_pred_colorectal_classification_rf = []\n",
    "\n",
    "for train_index, test_index in loo_colorectal_classification_rf.split(X_colorectal_type):\n",
    "    X_train, X_test = X_colorectal_type.iloc[train_index], X_colorectal_type.iloc[test_index]\n",
    "    y_train, y_test = y_colorectal_type.iloc[train_index], y_colorectal_type.iloc[test_index]\n",
    "\n",
    "    colorectal_classification_rf.fit(X_train, y_train)\n",
    "\n",
    "    y_pred_colorectal_classification_rf.append(colorectal_classification_rf.predict(X_test)[0])\n",
    "    y_true_colorectal_classification_rf.append(y_test.iloc[0])\n",
    "\n",
    "# LOOCV Score: 99.06%"
   ]
  },
  {
   "cell_type": "code",
   "execution_count": 21,
   "id": "af4bec02-9c2e-4b25-b377-8a4a93fb13d7",
   "metadata": {},
   "outputs": [
    {
     "name": "stdout",
     "output_type": "stream",
     "text": [
      "LOOCV Score: 99.06%\n"
     ]
    }
   ],
   "source": [
    "colorectal_classification_rf_accuracy = accuracy_score(y_true_colorectal_classification_rf, y_pred_colorectal_classification_rf)\n",
    "print(f'LOOCV Score: {colorectal_classification_rf_accuracy * 100:.2f}%')"
   ]
  },
  {
   "cell_type": "code",
   "execution_count": 19,
   "id": "eef89cd4-0aa2-486a-a4dc-ccb673e2ec9c",
   "metadata": {},
   "outputs": [],
   "source": [
    "X_gastric_type = df_gastric_cancer_classification.drop(columns = ['cancer_type'])\n",
    "y_gastric_type = df_gastric_cancer_classification['cancer_type']\n",
    "\n",
    "loo_gastric_classification_lr = LeaveOneOut()\n",
    "gastric_classification_lr = LogisticRegression(max_iter = 200)\n",
    "\n",
    "y_true_gastric_classification_lr = []\n",
    "y_pred_gastric_classification_lr = []\n",
    "\n",
    "for train_index, test_index in loo_gastric_classification_lr.split(X_gastric_type):\n",
    "    X_train, X_test = X_gastric_type.iloc[train_index], X_gastric_type.iloc[test_index]\n",
    "    y_train, y_test = y_gastric_type.iloc[train_index], y_gastric_type.iloc[test_index]\n",
    "\n",
    "    gastric_classification_lr.fit(X_train, y_train)\n",
    "\n",
    "    y_pred_gastric_classification_lr.append(gastric_classification_lr.predict(X_test)[0])\n",
    "    y_true_gastric_classification_lr.append(y_test.iloc[0])\n",
    "\n",
    "# LOOCV accuracy is 100%"
   ]
  },
  {
   "cell_type": "code",
   "execution_count": 25,
   "id": "8bf02f19-8e07-4fe4-bfdd-cd91e657b04d",
   "metadata": {},
   "outputs": [
    {
     "name": "stdout",
     "output_type": "stream",
     "text": [
      "LOOCV Score: 100.00%\n"
     ]
    }
   ],
   "source": [
    "gastric_classification_lr_accuracy = accuracy_score(y_true_gastric_classification_lr, y_pred_gastric_classification_lr)\n",
    "print(f'LOOCV Score: {gastric_classification_lr_accuracy * 100:.2f}%')"
   ]
  },
  {
   "cell_type": "code",
   "execution_count": 29,
   "id": "981322ac-ef02-4b4b-9404-fcf500f994b8",
   "metadata": {},
   "outputs": [],
   "source": [
    "X_gastric_type = df_gastric_cancer_classification.drop(columns = ['cancer_type'])\n",
    "y_gastric_type = df_gastric_cancer_classification['cancer_type']\n",
    "\n",
    "loo_gastric_classification_rf = LeaveOneOut()\n",
    "gastric_classification_rf = RandomForestClassifier(n_estimators = 100, random_state = 42)\n",
    "\n",
    "y_true_gastric_classification_rf = []\n",
    "y_pred_gastric_classification_rf = []\n",
    "\n",
    "for train_index, test_index in loo_gastric_classification_rf.split(X_gastric_type):\n",
    "    X_train, X_test = X_gastric_type.iloc[train_index], X_gastric_type.iloc[test_index]\n",
    "    y_train, y_test = y_gastric_type.iloc[train_index], y_gastric_type.iloc[test_index]\n",
    "\n",
    "    gastric_classification_rf.fit(X_train, y_train)\n",
    "\n",
    "    y_pred_gastric_classification_rf.append(gastric_classification_rf.predict(X_test)[0])\n",
    "    y_true_gastric_classification_rf.append(y_test.iloc[0])\n",
    "\n",
    "# LOOCV Score: 97.50%"
   ]
  },
  {
   "cell_type": "code",
   "execution_count": 31,
   "id": "43e3ab62-eadb-4399-b51f-2f8738b21dc4",
   "metadata": {},
   "outputs": [
    {
     "name": "stdout",
     "output_type": "stream",
     "text": [
      "LOOCV Score: 97.50%\n"
     ]
    }
   ],
   "source": [
    "gastric_classification_rf_accuracy = accuracy_score(y_true_gastric_classification_rf, y_pred_gastric_classification_rf)\n",
    "print(f'LOOCV Score: {gastric_classification_rf_accuracy * 100:.2f}%')"
   ]
  },
  {
   "cell_type": "code",
   "execution_count": 92,
   "id": "755f7ac4-443e-4ae1-9487-f88f0f31414b",
   "metadata": {},
   "outputs": [],
   "source": [
    "X_leukemia_type = df_leukemia_cancer_classification.drop(columns = ['cancer_type'])\n",
    "y_leukemia_type = df_leukemia_cancer_classification['cancer_type']\n",
    "\n",
    "loo_leukemia_classification_lr = LeaveOneOut()\n",
    "leukemia_classification_lr = LogisticRegression(max_iter = 200)\n",
    "\n",
    "y_true_leukemia_classification_lr = []\n",
    "y_pred_leukemia_classification_lr = []\n",
    "\n",
    "for train_index, test_index in loo_leukemia_classification_lr.split(X_leukemia_type):\n",
    "    X_train, X_test = X_leukemia_type.iloc[train_index], X_leukemia_type.iloc[test_index]\n",
    "    y_train, y_test = y_leukemia_type.iloc[train_index], y_leukemia_type.iloc[test_index]\n",
    "\n",
    "    leukemia_classification_lr.fit(X_train, y_train)\n",
    "\n",
    "    y_pred_leukemia_classification_lr.append(leukemia_classification_lr.predict(X_test)[0])\n",
    "    y_true_leukemia_classification_lr.append(y_test.iloc[0])\n",
    "\n",
    "# LOOCV accuracy is 100%"
   ]
  },
  {
   "cell_type": "code",
   "execution_count": 34,
   "id": "6d130d4d-88f3-404a-bd03-a2f4b94d861f",
   "metadata": {},
   "outputs": [
    {
     "name": "stdout",
     "output_type": "stream",
     "text": [
      "Accuracy: 100.00%\n"
     ]
    }
   ],
   "source": [
    "leukemia_classification_lr_accuracy = accuracy_score(y_true_leukemia_classification_lr, y_pred_leukemia_classification_lr)\n",
    "print(f'LOOCV Score: {leukemia_classification_lr_accuracy * 100:.2f}%')"
   ]
  },
  {
   "cell_type": "code",
   "execution_count": 88,
   "id": "3e23e5fb-7d3e-498d-a212-dc06857d9075",
   "metadata": {},
   "outputs": [],
   "source": [
    "X_leukemia_type = df_leukemia_cancer_classification.drop(columns = ['cancer_type'])\n",
    "y_leukemia_type = df_leukemia_cancer_classification['cancer_type']\n",
    "\n",
    "loo_leukemia_classification_rf = LeaveOneOut()\n",
    "leukemia_classification_rf = RandomForestClassifier(n_estimators = 100, random_state = 42)\n",
    "\n",
    "y_true_leukemia_classification_rf = []\n",
    "y_pred_leukemia_classification_rf = []\n",
    "\n",
    "for train_index, test_index in loo_leukemia_classification_rf.split(X_leukemia_type):\n",
    "    X_train, X_test = X_leukemia_type.iloc[train_index], X_leukemia_type.iloc[test_index]\n",
    "    y_train, y_test = y_leukemia_type.iloc[train_index], y_leukemia_type.iloc[test_index]\n",
    "\n",
    "    leukemia_classification_rf.fit(X_train, y_train)\n",
    "\n",
    "    y_pred_leukemia_classification_rf.append(leukemia_classification_rf.predict(X_test)[0])\n",
    "    y_true_leukemia_classification_rf.append(y_test.iloc[0])\n",
    "\n",
    "# LOOCV accuracy is 100%"
   ]
  },
  {
   "cell_type": "code",
   "execution_count": 37,
   "id": "68247c66-babb-4ddf-b9ee-aac82bdb74b5",
   "metadata": {},
   "outputs": [
    {
     "name": "stdout",
     "output_type": "stream",
     "text": [
      "LOOCV Score: 100.00%\n"
     ]
    }
   ],
   "source": [
    "leukemia_classification_rf_accuracy = accuracy_score(y_true_leukemia_classification_rf, y_pred_leukemia_classification_rf)\n",
    "print(f'LOOCV Score: {leukemia_classification_rf_accuracy * 100:.2f}%')"
   ]
  },
  {
   "cell_type": "markdown",
   "id": "e42335a7-1446-4ffb-ae85-7b3028b7b85e",
   "metadata": {},
   "source": [
    "## Preparing the Data for Cancer Sub-Type Classification"
   ]
  },
  {
   "cell_type": "code",
   "execution_count": 84,
   "id": "94ae556a-f2d4-419c-996a-7f09f7738cd8",
   "metadata": {},
   "outputs": [],
   "source": [
    "df_colorectal_subtype_classification = combined_colorectal.copy()\n",
    "df_gastric_subtype_classification = combined_gastric.copy()\n",
    "df_leukemia_subtype_classification = combined_leukemia.copy()"
   ]
  },
  {
   "cell_type": "code",
   "execution_count": 86,
   "id": "416c3f50-c248-47b9-a1eb-b917b529b77b",
   "metadata": {},
   "outputs": [],
   "source": [
    "df_colorectal_subtype_classification.drop(columns = ['cancer_type'], inplace = True)\n",
    "df_gastric_subtype_classification.drop(columns = ['cancer_type'], inplace = True)\n",
    "df_leukemia_subtype_classification.drop(columns = ['cancer_type'], inplace = True)"
   ]
  },
  {
   "cell_type": "markdown",
   "id": "1aaf6dcd-3f3e-44db-a5f0-b190d497b2a9",
   "metadata": {},
   "source": [
    "## Sub-Type Classification using Logistic Regression and LOOCV Score"
   ]
  },
  {
   "cell_type": "code",
   "execution_count": 46,
   "id": "a80e16a2-4554-4c3d-aed3-d194eba71581",
   "metadata": {},
   "outputs": [],
   "source": [
    "X_colorectal_subtype = df_colorectal_subtype_classification.drop(columns = ['type'])\n",
    "y_colorectal_subtype = df_colorectal_subtype_classification['type']\n",
    "\n",
    "loo_colorectal_subtype_lr = LeaveOneOut()\n",
    "colorectal_subtype_lr = LogisticRegression(max_iter = 200)\n",
    "\n",
    "y_true_colorectal_subtype_lr = []\n",
    "y_pred_colorectal_subtype_lr = []\n",
    "\n",
    "for train_index, test_index in loo_colorectal_subtype_lr.split(X_colorectal_subtype):\n",
    "    X_train, X_test = X_colorectal_subtype.iloc[train_index], X_colorectal_subtype.iloc[test_index]\n",
    "    y_train, y_test = y_colorectal_subtype.iloc[train_index], y_colorectal_subtype.iloc[test_index]\n",
    "\n",
    "    colorectal_subtype_lr.fit(X_train, y_train)\n",
    "\n",
    "    y_pred_colorectal_subtype_lr.append(colorectal_subtype_lr.predict(X_test)[0])\n",
    "    y_true_colorectal_subtype_lr.append(y_test.iloc[0])\n",
    "\n",
    "# LOOCV accuracy is 99.69%"
   ]
  },
  {
   "cell_type": "code",
   "execution_count": 48,
   "id": "aadf5ab2-7fe6-4b3a-8a37-7a520f4e1bca",
   "metadata": {},
   "outputs": [
    {
     "name": "stdout",
     "output_type": "stream",
     "text": [
      "LOOCV Score: 99.69%\n"
     ]
    }
   ],
   "source": [
    "colorectal_subtype_lr_accuracy = accuracy_score(y_true_colorectal_subtype_lr, y_pred_colorectal_subtype_lr)\n",
    "print(f'LOOCV Score: {colorectal_subtype_lr_accuracy * 100:.2f}%')"
   ]
  },
  {
   "cell_type": "code",
   "execution_count": 50,
   "id": "b48382f0-b7fe-492f-ae34-396b7543af1d",
   "metadata": {},
   "outputs": [],
   "source": [
    "X_gastric_subtype = df_gastric_subtype_classification.drop(columns = ['type'])\n",
    "y_gastric_subtype = df_gastric_subtype_classification['type']\n",
    "\n",
    "loo_gastric_subtype_lr = LeaveOneOut()\n",
    "gastric_subtype_lr = LogisticRegression(max_iter = 200)\n",
    "\n",
    "y_true_gastric_subtype_lr = []\n",
    "y_pred_gastric_subtype_lr = []\n",
    "\n",
    "for train_index, test_index in loo_gastric_subtype_lr.split(X_gastric_subtype):\n",
    "    X_train, X_test = X_gastric_subtype.iloc[train_index], X_gastric_subtype.iloc[test_index]\n",
    "    y_train, y_test = y_gastric_subtype.iloc[train_index], y_gastric_subtype.iloc[test_index]\n",
    "\n",
    "    gastric_subtype_lr.fit(X_train, y_train)\n",
    "\n",
    "    y_pred_gastric_subtype_lr.append(gastric_subtype_lr.predict(X_test)[0])\n",
    "    y_true_gastric_subtype_lr.append(y_test.iloc[0])\n",
    "\n",
    "# LOOCV accuracy is 100%"
   ]
  },
  {
   "cell_type": "code",
   "execution_count": 52,
   "id": "8fb8184c-eddb-4a72-9121-05a559da6e1f",
   "metadata": {},
   "outputs": [
    {
     "name": "stdout",
     "output_type": "stream",
     "text": [
      "LOOCV Score: 100.00%\n"
     ]
    }
   ],
   "source": [
    "gastric_subtype_lr_accuracy = accuracy_score(y_true_gastric_subtype_lr, y_pred_gastric_subtype_lr)\n",
    "print(f'LOOCV Score: {gastric_subtype_lr_accuracy * 100:.2f}%')"
   ]
  },
  {
   "cell_type": "code",
   "execution_count": 54,
   "id": "d5e4aa49-c677-4f54-a108-93bc2113ba4e",
   "metadata": {},
   "outputs": [],
   "source": [
    "X_leukemia_subtype = df_leukemia_subtype_classification.drop(columns = ['type'])\n",
    "y_leukemia_subtype = df_leukemia_subtype_classification['type']\n",
    "\n",
    "loo_leukemia_subtype_lr = LeaveOneOut()\n",
    "leukemia_subtype_lr = LogisticRegression(max_iter = 200)\n",
    "\n",
    "y_true_leukemia_subtype_lr = []\n",
    "y_pred_leukemia_subtype_lr = []\n",
    "\n",
    "for train_index, test_index in loo_leukemia_subtype_lr.split(X_leukemia_subtype):\n",
    "    X_train, X_test = X_leukemia_subtype.iloc[train_index], X_leukemia_subtype.iloc[test_index]\n",
    "    y_train, y_test = y_leukemia_subtype.iloc[train_index], y_leukemia_subtype.iloc[test_index]\n",
    "\n",
    "    leukemia_subtype_lr.fit(X_train, y_train)\n",
    "\n",
    "    y_pred_leukemia_subtype_lr.append(leukemia_subtype_lr.predict(X_test)[0])\n",
    "    y_true_leukemia_subtype_lr.append(y_test.iloc[0])\n",
    "\n",
    "# LOOCV accuracy is 100%"
   ]
  },
  {
   "cell_type": "code",
   "execution_count": 56,
   "id": "66323c85-c758-4a64-9006-8c563aa78f22",
   "metadata": {},
   "outputs": [
    {
     "name": "stdout",
     "output_type": "stream",
     "text": [
      "LOOCV Score: 100.00%\n"
     ]
    }
   ],
   "source": [
    "leukemia_subtype_lr_accuracy = accuracy_score(y_true_leukemia_subtype_lr, y_pred_leukemia_subtype_lr)\n",
    "print(f'LOOCV Score: {leukemia_subtype_lr_accuracy * 100:.2f}%')"
   ]
  },
  {
   "cell_type": "markdown",
   "id": "d46d84b3-79a7-4a3a-9b74-e5f9c6d6a611",
   "metadata": {},
   "source": [
    "## Functions to Return Cancer Classification Probabilities for Logistic Regression"
   ]
  },
  {
   "cell_type": "markdown",
   "id": "7ab27c91-81f8-4cd3-ae46-62d803b3ea4f",
   "metadata": {},
   "source": [
    "The following are basic functions that utilize the trained logistic regression models to return the class (whether it is the type of cancer or normal), as well as the probabilities"
   ]
  },
  {
   "cell_type": "code",
   "execution_count": 41,
   "id": "fdb76319-001e-4ed9-b78e-bdc8b84ac4c2",
   "metadata": {},
   "outputs": [],
   "source": [
    "def colorectal_lr(X_features):\n",
    "    model = colorectal_classification_lr\n",
    "    y_pred = model.predict(X_features)\n",
    "    y_pred_prob = model.predict_proba(X_features)\n",
    "\n",
    "    return y_pred, y_pred_prob"
   ]
  },
  {
   "cell_type": "code",
   "execution_count": 57,
   "id": "f11820a3-0b08-4289-bd90-f57c4a3de0ee",
   "metadata": {},
   "outputs": [
    {
     "name": "stdout",
     "output_type": "stream",
     "text": [
      "colorectal [0.99846371 0.00153629]\n",
      "colorectal [9.99987817e-01 1.21827471e-05]\n",
      "colorectal [9.99978543e-01 2.14571929e-05]\n",
      "colorectal [9.99999923e-01 7.65182901e-08]\n",
      "colorectal [0.99890875 0.00109125]\n",
      "colorectal [9.99993924e-01 6.07558017e-06]\n",
      "colorectal [9.99992893e-01 7.10714267e-06]\n",
      "colorectal [9.99999980e-01 2.02485687e-08]\n",
      "colorectal [9.99998222e-01 1.77841676e-06]\n",
      "colorectal [9.99999044e-01 9.56078693e-07]\n"
     ]
    }
   ],
   "source": [
    "classes, probs = colorectal_lr(X_colorectal_type)\n",
    "for i in range(10):\n",
    "    print(classes[i], probs[i])"
   ]
  },
  {
   "cell_type": "code",
   "execution_count": 60,
   "id": "5ac674c5-d95a-4ef9-9ce2-43e4b5c7b233",
   "metadata": {},
   "outputs": [],
   "source": [
    "def gastric_lr(X_features):\n",
    "    model = gastric_classification_lr\n",
    "    y_pred = model.predict(X_features)\n",
    "    y_pred_prob = model.predict_proba(X_features)\n",
    "\n",
    "    return y_pred, y_pred_prob"
   ]
  },
  {
   "cell_type": "code",
   "execution_count": 62,
   "id": "eadff91d-deec-4471-970e-207e5480f652",
   "metadata": {},
   "outputs": [
    {
     "name": "stdout",
     "output_type": "stream",
     "text": [
      "gastric [9.99984549e-01 1.54508684e-05]\n",
      "gastric [9.99975461e-01 2.45390724e-05]\n",
      "gastric [9.99954576e-01 4.54244250e-05]\n",
      "gastric [9.99968345e-01 3.16551209e-05]\n",
      "gastric [9.99962693e-01 3.73071462e-05]\n",
      "gastric [9.99922916e-01 7.70843369e-05]\n",
      "gastric [9.99991796e-01 8.20380857e-06]\n",
      "gastric [9.99964757e-01 3.52430527e-05]\n",
      "gastric [9.99994984e-01 5.01635003e-06]\n",
      "gastric [9.99812126e-01 1.87874176e-04]\n"
     ]
    }
   ],
   "source": [
    "classes, probs = gastric_lr(X_gastric_type)\n",
    "for i in range(10):\n",
    "    print(classes[i], probs[i])"
   ]
  },
  {
   "cell_type": "code",
   "execution_count": 94,
   "id": "16298991-c92a-4a21-b176-910ce4f77b6b",
   "metadata": {},
   "outputs": [],
   "source": [
    "def leukemia_lr(X_features):\n",
    "    model = leukemia_classification_lr\n",
    "    y_pred = model.predict(X_features)\n",
    "    y_pred_prob = model.predict_proba(X_features)\n",
    "\n",
    "    return y_pred, y_pred_prob"
   ]
  },
  {
   "cell_type": "code",
   "execution_count": 96,
   "id": "37debc0d-52d2-48bd-b4e4-2c50447ab8b9",
   "metadata": {},
   "outputs": [
    {
     "name": "stdout",
     "output_type": "stream",
     "text": [
      "leukemia [9.99999997e-01 2.67787218e-09]\n",
      "leukemia [9.99999999e-01 1.22675544e-09]\n",
      "leukemia [1.00000000e+00 1.68706056e-11]\n",
      "leukemia [1.00000000e+00 1.84591998e-11]\n",
      "leukemia [1.00000000e+00 3.13739624e-11]\n",
      "leukemia [9.99999999e-01 1.37428056e-09]\n",
      "leukemia [9.99999918e-01 8.22915531e-08]\n",
      "leukemia [1.00000000e+00 1.10577366e-10]\n",
      "leukemia [9.99999999e-01 1.18486184e-09]\n",
      "leukemia [9.99999999e-01 7.74379038e-10]\n"
     ]
    }
   ],
   "source": [
    "classes, probs = leukemia_lr(X_leukemia_type)\n",
    "for i in range(10):\n",
    "    print(classes[i], probs[i])"
   ]
  }
 ],
 "metadata": {
  "kernelspec": {
   "display_name": "Python 3 (ipykernel)",
   "language": "python",
   "name": "python3"
  },
  "language_info": {
   "codemirror_mode": {
    "name": "ipython",
    "version": 3
   },
   "file_extension": ".py",
   "mimetype": "text/x-python",
   "name": "python",
   "nbconvert_exporter": "python",
   "pygments_lexer": "ipython3",
   "version": "3.12.4"
  }
 },
 "nbformat": 4,
 "nbformat_minor": 5
}
